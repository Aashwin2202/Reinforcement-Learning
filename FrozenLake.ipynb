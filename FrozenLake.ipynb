{
 "cells": [
  {
   "cell_type": "code",
   "execution_count": 1,
   "source": [
    "import numpy as np\r\n",
    "import gym\r\n",
    "import time\r\n",
    "import random\r\n",
    "from IPython.display import clear_output"
   ],
   "outputs": [],
   "metadata": {}
  },
  {
   "cell_type": "code",
   "execution_count": 2,
   "source": [
    "env = gym.make('FrozenLake-v1')"
   ],
   "outputs": [],
   "metadata": {}
  },
  {
   "cell_type": "code",
   "execution_count": 3,
   "source": [
    "action_space_size = env.action_space.n\r\n",
    "state_space_size = env.observation_space.n\r\n",
    "\r\n",
    "q_table = np.zeros((state_space_size, action_space_size))"
   ],
   "outputs": [],
   "metadata": {}
  },
  {
   "cell_type": "code",
   "execution_count": 4,
   "source": [
    "num_episodes = 10000\r\n",
    "max_steps_per_episode = 100\r\n",
    "\r\n",
    "learning_rate = 0.1\r\n",
    "discount_rate = 0.99\r\n",
    "\r\n",
    "exploration_rate = 1\r\n",
    "max_exploration_rate = 1\r\n",
    "min_exploration_rate = 0.01\r\n",
    "exploration_decay_rate = 0.001"
   ],
   "outputs": [],
   "metadata": {}
  },
  {
   "cell_type": "code",
   "execution_count": 5,
   "source": [
    "rewards_all_episodes = []"
   ],
   "outputs": [],
   "metadata": {}
  },
  {
   "cell_type": "code",
   "execution_count": 6,
   "source": [
    "for episode in range(num_episodes):\r\n",
    "    state = env.reset()\r\n",
    "    done = False\r\n",
    "    rewards_current_episode = 0\r\n",
    "    \r\n",
    "    for step in range(max_steps_per_episode): \r\n",
    "        # Exploration-exploitation trade-off\r\n",
    "        exploration_rate_threshold = random.uniform(0, 1)\r\n",
    "        if exploration_rate_threshold > exploration_rate:\r\n",
    "            action = np.argmax(q_table[state,:]) \r\n",
    "        else:\r\n",
    "            action = env.action_space.sample()\r\n",
    "            \r\n",
    "        new_state, reward, done, info = env.step(action)\r\n",
    "        \r\n",
    "        # Update Q-table for Q(s,a)\r\n",
    "        q_table[state, action] = q_table[state, action] * (1 - learning_rate) + \\\r\n",
    "        learning_rate * (reward + discount_rate * np.max(q_table[new_state, :]))\r\n",
    "        \r\n",
    "        state = new_state\r\n",
    "        rewards_current_episode += reward\r\n",
    "        \r\n",
    "        if done == True: \r\n",
    "            break\r\n",
    "            \r\n",
    "    # Exploration rate decay\r\n",
    "    exploration_rate = min_exploration_rate + \\\r\n",
    "    (max_exploration_rate - min_exploration_rate) * np.exp(-exploration_decay_rate*episode)\r\n",
    "    \r\n",
    "    rewards_all_episodes.append(rewards_current_episode)"
   ],
   "outputs": [],
   "metadata": {}
  },
  {
   "cell_type": "code",
   "execution_count": 7,
   "source": [
    "# Calculate and print the average reward per thousand episodes\r\n",
    "rewards_per_thousand_episodes = np.split(np.array(rewards_all_episodes),num_episodes/1000)\r\n",
    "count = 1000\r\n",
    "\r\n",
    "print(\"********Average reward per thousand episodes********\\n\")\r\n",
    "for r in rewards_per_thousand_episodes:\r\n",
    "    print(count, \": \", str(sum(r/1000)))\r\n",
    "    count += 1000"
   ],
   "outputs": [
    {
     "output_type": "stream",
     "name": "stdout",
     "text": [
      "********Average reward per thousand episodes********\n",
      "\n",
      "1000 :  0.06600000000000004\n",
      "2000 :  0.21700000000000016\n",
      "3000 :  0.4270000000000003\n",
      "4000 :  0.5590000000000004\n",
      "5000 :  0.6460000000000005\n",
      "6000 :  0.6770000000000005\n",
      "7000 :  0.6700000000000005\n",
      "8000 :  0.6900000000000005\n",
      "9000 :  0.6560000000000005\n",
      "10000 :  0.6870000000000005\n"
     ]
    }
   ],
   "metadata": {}
  },
  {
   "cell_type": "code",
   "execution_count": 8,
   "source": [
    "q_table"
   ],
   "outputs": [
    {
     "output_type": "execute_result",
     "data": {
      "text/plain": [
       "array([[0.54852931, 0.5247162 , 0.54226234, 0.53218708],\n",
       "       [0.22367131, 0.38595843, 0.28582956, 0.50695148],\n",
       "       [0.42928406, 0.43248943, 0.42395742, 0.46748213],\n",
       "       [0.22044356, 0.24670418, 0.32374864, 0.45862443],\n",
       "       [0.56159778, 0.34814379, 0.43650704, 0.46675592],\n",
       "       [0.        , 0.        , 0.        , 0.        ],\n",
       "       [0.27465762, 0.10252702, 0.39083055, 0.16356502],\n",
       "       [0.        , 0.        , 0.        , 0.        ],\n",
       "       [0.3722089 , 0.48145044, 0.35125954, 0.57909103],\n",
       "       [0.4732477 , 0.60322765, 0.49297889, 0.3245127 ],\n",
       "       [0.61216817, 0.42940949, 0.39209469, 0.35945118],\n",
       "       [0.        , 0.        , 0.        , 0.        ],\n",
       "       [0.        , 0.        , 0.        , 0.        ],\n",
       "       [0.38305867, 0.48140802, 0.69102057, 0.44301937],\n",
       "       [0.76196299, 0.84088286, 0.69865944, 0.76536816],\n",
       "       [0.        , 0.        , 0.        , 0.        ]])"
      ]
     },
     "metadata": {},
     "execution_count": 8
    }
   ],
   "metadata": {}
  },
  {
   "cell_type": "code",
   "execution_count": 9,
   "source": [
    "for episode in range(3):\r\n",
    "    state = env.reset()\r\n",
    "    done = False\r\n",
    "    print(\"*****EPISODE \", episode+1, \"*****\\n\\n\\n\\n\")\r\n",
    "    time.sleep(1)\r\n",
    "    \r\n",
    "    for step in range(max_steps_per_episode):        \r\n",
    "        clear_output(wait=True)\r\n",
    "        env.render()\r\n",
    "        time.sleep(0.5)\r\n",
    "        \r\n",
    "        action = np.argmax(q_table[state,:])        \r\n",
    "        new_state, reward, done, info = env.step(action)\r\n",
    "\r\n",
    "        if done:\r\n",
    "            clear_output(wait=True)\r\n",
    "            env.render()\r\n",
    "            if reward == 1:\r\n",
    "                print(\"****You reached the goal!****\")\r\n",
    "                time.sleep(3)\r\n",
    "            else:\r\n",
    "                print(\"****You fell through a hole!****\")\r\n",
    "                time.sleep(3)\r\n",
    "            clear_output(wait=True)\r\n",
    "            break\r\n",
    "        \r\n",
    "        state = new_state\r\n",
    "        \r\n",
    "env.close()"
   ],
   "outputs": [
    {
     "output_type": "stream",
     "name": "stdout",
     "text": [
      "  (Down)\n",
      "SFFF\n",
      "FHFH\n",
      "FFFH\n",
      "HFF\u001b[41mG\u001b[0m\n",
      "****You reached the goal!****\n"
     ]
    }
   ],
   "metadata": {}
  }
 ],
 "metadata": {
  "kernelspec": {
   "name": "python3",
   "display_name": "Python 3.8.8 64-bit ('base': conda)"
  },
  "language_info": {
   "codemirror_mode": {
    "name": "ipython",
    "version": 3
   },
   "file_extension": ".py",
   "mimetype": "text/x-python",
   "name": "python",
   "nbconvert_exporter": "python",
   "pygments_lexer": "ipython3",
   "version": "3.8.8"
  },
  "interpreter": {
   "hash": "e0877dc070648c6720165dc690bf370ca11d4b325f062923ae89c386586f8e6d"
  }
 },
 "nbformat": 4,
 "nbformat_minor": 5
}